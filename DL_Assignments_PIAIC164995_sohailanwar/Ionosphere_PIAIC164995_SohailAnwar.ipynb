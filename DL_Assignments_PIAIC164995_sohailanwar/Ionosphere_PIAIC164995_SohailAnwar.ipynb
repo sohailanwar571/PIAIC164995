{
 "cells": [
  {
   "cell_type": "code",
   "execution_count": 1,
   "metadata": {},
   "outputs": [
    {
     "ename": "ModuleNotFoundError",
     "evalue": "No module named 'sklearn.cross_validation'",
     "output_type": "error",
     "traceback": [
      "\u001b[1;31m---------------------------------------------------------------------------\u001b[0m",
      "\u001b[1;31mModuleNotFoundError\u001b[0m                       Traceback (most recent call last)",
      "\u001b[1;32m<ipython-input-1-38b08ca22fdf>\u001b[0m in \u001b[0;36m<module>\u001b[1;34m\u001b[0m\n\u001b[0;32m     10\u001b[0m \u001b[1;32mfrom\u001b[0m \u001b[0msklearn\u001b[0m\u001b[1;33m.\u001b[0m\u001b[0mtree\u001b[0m \u001b[1;32mimport\u001b[0m \u001b[0mDecisionTreeClassifier\u001b[0m\u001b[1;33m\u001b[0m\u001b[1;33m\u001b[0m\u001b[0m\n\u001b[0;32m     11\u001b[0m \u001b[1;32mfrom\u001b[0m \u001b[0msklearn\u001b[0m\u001b[1;33m.\u001b[0m\u001b[0mmetrics\u001b[0m \u001b[1;32mimport\u001b[0m \u001b[0mroc_curve\u001b[0m\u001b[1;33m,\u001b[0m \u001b[0mauc\u001b[0m\u001b[1;33m,\u001b[0m \u001b[0mconfusion_matrix\u001b[0m\u001b[1;33m\u001b[0m\u001b[1;33m\u001b[0m\u001b[0m\n\u001b[1;32m---> 12\u001b[1;33m \u001b[1;32mfrom\u001b[0m \u001b[0msklearn\u001b[0m\u001b[1;33m.\u001b[0m\u001b[0mcross_validation\u001b[0m \u001b[1;32mimport\u001b[0m \u001b[0mKFold\u001b[0m\u001b[1;33m,\u001b[0m \u001b[0mtrain_test_split\u001b[0m\u001b[1;33m\u001b[0m\u001b[1;33m\u001b[0m\u001b[0m\n\u001b[0m\u001b[0;32m     13\u001b[0m \u001b[1;32mfrom\u001b[0m \u001b[0msklearn\u001b[0m\u001b[1;33m.\u001b[0m\u001b[0mdecomposition\u001b[0m \u001b[1;32mimport\u001b[0m \u001b[0mPCA\u001b[0m\u001b[1;33m\u001b[0m\u001b[1;33m\u001b[0m\u001b[0m\n",
      "\u001b[1;31mModuleNotFoundError\u001b[0m: No module named 'sklearn.cross_validation'"
     ]
    }
   ],
   "source": [
    "#===============================================================================\n",
    "# Setup\n",
    "#===============================================================================\n",
    "\n",
    "import pandas as pd\n",
    "import numpy as np\n",
    "import matplotlib.pyplot as plt\n",
    "\n",
    "from sklearn.linear_model import LogisticRegression\n",
    "from sklearn.tree import DecisionTreeClassifier\n",
    "from sklearn.metrics import roc_curve, auc, confusion_matrix\n",
    "from sklearn.cross_validation import KFold, train_test_split\n",
    "from sklearn.decomposition import PCA"
   ]
  },
  {
   "cell_type": "code",
   "execution_count": null,
   "metadata": {},
   "outputs": [],
   "source": [
    "#===============================================================================\n",
    "# Loading and preparing the data\n",
    "#===============================================================================\n",
    "\n",
    "data = pd.read_csv('ionosphere_processed.csv', index_col=0)\n",
    "data_mat = data.as_matrix()\n",
    "n_rows, n_cols = data_mat.shape\n",
    "X = data_mat[:, :n_cols-1]\n",
    "y = data_mat[:, n_cols-1]\n"
   ]
  },
  {
   "cell_type": "code",
   "execution_count": null,
   "metadata": {},
   "outputs": [],
   "source": [
    "#===============================================================================\n",
    "# Function definitions\n",
    "#===============================================================================\n",
    "\n",
    "def plot_roc(fpr, tpr):\n",
    "  plt.figure(figsize=(7, 4))\n",
    "  plt.plot(fpr, tpr)\n",
    "  plt.plot(fpr, fpr, '--')\n",
    "  plt.xlabel('false positive rate')\n",
    "  plt.ylabel('true positive rate')\n",
    "  plt.show()\n",
    "  plt.close('all')\n"
   ]
  },
  {
   "cell_type": "code",
   "execution_count": null,
   "metadata": {},
   "outputs": [],
   "source": [
    "#===============================================================================\n",
    "# Prediction, single logistic regression, entire dataset\n",
    "#===============================================================================\n",
    "\n",
    "logit_classifier = LogisticRegression(solver='liblinear')\n",
    "logit_classifier.fit(X, y)\n",
    "yhat = logit_classifier.predict(X)\n",
    "probabilities = logit_classifier.predict_proba(X)\n",
    "\n",
    "fpr, tpr, thresholds = roc_curve(y_true=y, \n",
    "                                 y_score=probabilities[:, 1], \n",
    "                                 pos_label='g')\n",
    "area_under_curve = auc(fpr, tpr)\n",
    "# plt.figure(figsize=(7, 4))\n",
    "# plt.plot(fpr, tpr)\n",
    "# plt.plot(fpr, fpr, '--')\n",
    "# plt.xlabel('false positive rate')\n",
    "# plt.ylabel('true positive rate')\n",
    "# plt.show()\n",
    "# plt.close('all')\n",
    "plot_roc(fpr, tpr)"
   ]
  },
  {
   "cell_type": "code",
   "execution_count": null,
   "metadata": {},
   "outputs": [],
   "source": [
    "\n",
    "#===============================================================================\n",
    "# Prediction, single logistic regression, cross-validation\n",
    "#===============================================================================\n",
    "\n",
    "list_of_auc = []\n",
    "kf = KFold(n=data_mat.shape[0], n_folds=5, shuffle=True)\n",
    "\n",
    "for train_index, test_index in kf:\n",
    "  classifier = LogisticRegression(solver='liblinear').fit(X[train_index, :],\n",
    "                                                          y[train_index])\n",
    "  probabilities = classifier.predict_proba(X[test_index, :])\n",
    "  fpr, tpr, thresholds = roc_curve(y_true=y[test_index],\n",
    "                                   y_score=probabilities[:, 1],\n",
    "                                   pos_label='g')\n",
    "  list_of_auc.append(auc(fpr, tpr))"
   ]
  },
  {
   "cell_type": "code",
   "execution_count": null,
   "metadata": {},
   "outputs": [],
   "source": [
    "#===============================================================================\n",
    "# Prediction, single logistic regression, train_test_split, PCA\n",
    "#===============================================================================\n",
    "\n",
    "X_train, X_test, y_train, y_test = train_test_split(X, y, test_size=.33,\n",
    "                                                    random_state=0)\n",
    "\n",
    "# the exploratory analysis has unsurprisingly shown that there are \n",
    "# correlations between the features so a PCA is used here to do some\n",
    "# dimensionality reduction\n",
    "\n",
    "pca = PCA(n_components=.85)    # retains 85% of variance explained\n",
    "pca.fit(X_train)\n",
    "\n",
    "X_train_transform = pca.transform(X_train)\n",
    "X_test_transform = pca.transform(X_test)\n",
    "\n",
    "logit_classifier = LogisticRegression(solver='liblinear')\n",
    "logit_classifier.fit(X_train_transform, y_train)\n",
    "\n",
    "probabilities = logit_classifier.predict_proba(X_test_transform)\n",
    "fpr, tpr, thresholds = roc_curve(y_true=y_test,\n",
    "                                 y_score=probabilities[:, 1],\n",
    "                                 pos_label='g')\n",
    "area_under_curve = auc(fpr, tpr)\n",
    "plot_roc(fpr, tpr)\n"
   ]
  },
  {
   "cell_type": "code",
   "execution_count": null,
   "metadata": {},
   "outputs": [],
   "source": [
    "#===============================================================================\n",
    "# Prediction, single decision tree, entire dataset\n",
    "#===============================================================================\n",
    "\n",
    "tree_classifier = DecisionTreeClassifier()\n",
    "tree_classifier.fit(X, y)\n",
    "yhat = tree_classifier.predict(X)\n",
    "conf_mat = confusion_matrix(y_true=y, y_pred=yhat)\n"
   ]
  },
  {
   "cell_type": "code",
   "execution_count": null,
   "metadata": {},
   "outputs": [],
   "source": [
    "#===============================================================================\n",
    "# Prediction, single decision tree, train_test_split\n",
    "#===============================================================================\n",
    "\n",
    "X_train, X_test, y_train, y_test = train_test_split(X, y, test_size=.33,\n",
    "                                                    random_state=0)\n",
    "\n",
    "tree_classifier = DecisionTreeClassifier()\n",
    "tree_classifier.fit(X_train, y_train)\n",
    "yhat = tree_classifier.predict(X_test)\n",
    "conf_mat = confusion_matrix(y_true=y_test, y_pred=yhat)"
   ]
  },
  {
   "cell_type": "code",
   "execution_count": null,
   "metadata": {},
   "outputs": [],
   "source": [
    "#===============================================================================\n",
    "# Prediction, single decision tree, cross-validation\n",
    "#===============================================================================\n",
    "\n",
    "list_of_conf_mat = []\n",
    "kf = KFold(n=data_mat.shape[0], n_folds=5, shuffle=True)\n",
    "\n",
    "for train_index, test_index in kf:\n",
    "  classifier = DecisionTreeClassifier()\n",
    "  classifier.fit(X[train_index, :], y[train_index])\n",
    "  yhat = classifier.predict(X[test_index, :])\n",
    "  list_of_conf_mat.append(confusion_matrix(y_true=y[test_index],\n",
    "                                           y_pred=yhat))"
   ]
  }
 ],
 "metadata": {
  "kernelspec": {
   "display_name": "Python 3",
   "language": "python",
   "name": "python3"
  },
  "language_info": {
   "codemirror_mode": {
    "name": "ipython",
    "version": 3
   },
   "file_extension": ".py",
   "mimetype": "text/x-python",
   "name": "python",
   "nbconvert_exporter": "python",
   "pygments_lexer": "ipython3",
   "version": "3.7.6"
  }
 },
 "nbformat": 4,
 "nbformat_minor": 4
}
